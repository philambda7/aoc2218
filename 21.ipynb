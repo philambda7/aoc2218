{
 "cells": [
  {
   "cell_type": "code",
   "execution_count": 44,
   "metadata": {},
   "outputs": [],
   "source": [
    "# a) \n",
    "\n",
    "\n",
    "# parse what the monkes are yelling in a dictionary\n",
    "# key is the monke name, the corresponding intem is the integer or a \n",
    "# list of [first_monke_name, operator, second_monke_name]\n",
    "\n",
    "monke = {}\n",
    "\n",
    "with open(\"21.txt\") as f:\n",
    "    for l in f.readlines():\n",
    "        name, yell = l.removesuffix(\"\\n\").split(sep = \":\")\n",
    "        yell = yell.split()\n",
    "        if len(yell) == 1:\n",
    "            monke[name] = int(yell[0])\n",
    "        else:\n",
    "            monke[name] = yell"
   ]
  },
  {
   "cell_type": "code",
   "execution_count": 43,
   "metadata": {},
   "outputs": [],
   "source": [
    "\n",
    "def evalutate_monke(name: str) -> int:\n",
    "    \"\"\"\n",
    "        function that does a recursive numerical evaluation of what number a monke is associated with\n",
    "        \n",
    "        inputs:\n",
    "\n",
    "        name: name of the monke, that shall be evaluated:\n",
    "\n",
    "        output:\n",
    "\n",
    "        number the monke is associated with\n",
    "    \"\"\"\n",
    "    if name not in list(monke.keys()):\n",
    "        raise Exception(\"invalid monke name\")\n",
    "    \n",
    "    yell = monke[name]\n",
    "    \n",
    "    if type(yell) == int:\n",
    "        return yell\n",
    "    \n",
    "    monke_1, op, monke_2 = yell\n",
    "\n",
    "    if op == \"+\":\n",
    "        return evalutate_monke(monke_1) + evalutate_monke(monke_2)\n",
    "        \n",
    "    if op == \"-\":\n",
    "        return evalutate_monke(monke_1) - evalutate_monke(monke_2)\n",
    "        \n",
    "    if op == \"*\":\n",
    "        return evalutate_monke(monke_1) * evalutate_monke(monke_2)\n",
    "        \n",
    "    if op == \"/\":\n",
    "        return evalutate_monke(monke_1) / evalutate_monke(monke_2)"
   ]
  },
  {
   "cell_type": "code",
   "execution_count": 46,
   "metadata": {},
   "outputs": [
    {
     "data": {
      "text/plain": [
       "121868120894282.0"
      ]
     },
     "execution_count": 46,
     "metadata": {},
     "output_type": "execute_result"
    }
   ],
   "source": [
    "#evaluate root\n",
    "evalutate_monke('root')"
   ]
  },
  {
   "cell_type": "code",
   "execution_count": 15,
   "metadata": {},
   "outputs": [],
   "source": [
    "# b)\n",
    "\n",
    "# The value of 'humn' is a variable x. Under operations +,-,* and / the resulting function\n",
    "# is a rational function (quotient of two polynomials) in x\n",
    "# The following classes implement polynomials and rational functions and basic mathematical operations on them.\n",
    "\n",
    "import numpy as np\n",
    "\n",
    "class Polynomial:\n",
    "    # A polynomial is represented by a list of numbers poly. \n",
    "    # E.g. [1,2,0,3] represents the polynomial 1+2x+3x^4\n",
    "\n",
    "    def __init__(self, poly):\n",
    "        if type(poly) == Polynomial:\n",
    "            self.poly = np.array(poly.poly)\n",
    "        else:\n",
    "            self.poly = np.array(poly)\n",
    "\n",
    "    def __len__(self):\n",
    "        \"\"\"\n",
    "            the length of a polynomial is the degree + 1 \n",
    "        \"\"\"\n",
    "        return len(self.poly)\n",
    "\n",
    "    def __add__(self, other):\n",
    "        m = np.maximum(len(self),len(other))\n",
    "        return Polynomial(np.hstack((self.poly,np.zeros(shape = (m-len(self))))) + np.hstack((other.poly,np.zeros(shape = (m-len(other))))))\n",
    "\n",
    "    def __sub__(self, other):\n",
    "        m = np.maximum(len(self),len(other))\n",
    "        return Polynomial(np.hstack((self.poly,np.zeros(shape = (m-len(self))))) - np.hstack((other.poly,np.zeros(shape = (m-len(other))))))\n",
    "\n",
    "    def __mul__(self, other):\n",
    "        d = len(self)+len(other)-1\n",
    "        return Polynomial([sum([self.poly[i]*other.poly[s-i] for i in range(len(self)) if (0<= s-i and s-i< len(other))]) for s in range(d)])\n",
    "\n",
    "    def __str__(self) -> str:\n",
    "        s = str(self.poly[0])\n",
    "        for i in range(1,len(self.poly)):\n",
    "            if self.poly[i]>=0:\n",
    "                s += \"+\"\n",
    "            else:\n",
    "                s += \"-\" \n",
    "            s += str(abs(self.poly[i])) + \"x^\" + str(i)\n",
    "        return s\n",
    "\n",
    "\n",
    "    def __repr__(self) -> str:\n",
    "        s = str(self.poly[0])\n",
    "        for i in range(1,len(self.poly)):\n",
    "            if self.poly[i]>=0:\n",
    "                s += \"+\"\n",
    "            else:\n",
    "                s += \"-\" \n",
    "            s += str(abs(self.poly[i])) + \"x^\" + str(i)\n",
    "        return s\n",
    "        \n",
    "\n",
    "class Rational_function:\n",
    "\n",
    "    def __init__(self, num, denom):\n",
    "        self.num = Polynomial(num)\n",
    "        self.denom = Polynomial(denom)\n",
    "\n",
    "    def __mul__(self, other):\n",
    "        return Rational_function(self.num * other.num, self.denom * other.denom) \n",
    "    \n",
    "    def __add__(self, other):\n",
    "        return Rational_function(self.num*other.denom + self.denom*other.num,self.denom*other.denom)\n",
    "\n",
    "    def __sub__(self, other):\n",
    "        return Rational_function(self.num*other.denom - self.denom*other.num,self.denom*other.denom)\n",
    "\n",
    "    def __str__(self) -> str:\n",
    "        return str(self.num) + \"/\" + str(self.denom)\n",
    "\n",
    "    def __repr__(self) -> str:\n",
    "        return str(self.num) + \"/\" + str(self.denom)\n",
    "\n",
    "    def __truediv__(self,other):\n",
    "        return Rational_function(self.num * other.denom, self.denom * other.num) \n",
    "\n",
    "\n",
    "\n",
    "    "
   ]
  },
  {
   "cell_type": "code",
   "execution_count": 20,
   "metadata": {},
   "outputs": [],
   "source": [
    "# This time we need to do an symbolic evaluation.\n",
    "# We parse the yell of a monke as rational function (value / 1) if it is a number\n",
    "# The yell of humn is parsed as the rational function (x / 1)\n",
    "\n",
    "rational_monke = {}\n",
    "\n",
    "with open(\"21.txt\") as f:\n",
    "    for l in f.readlines():\n",
    "        name, yell = l.removesuffix(\"\\n\").split(sep = \":\")\n",
    "        yell = yell.split()\n",
    "        if name == 'humn':\n",
    "            rational_monke[name] = Rational_function([0,1],[1])\n",
    "        elif name == 'root':\n",
    "            rational_monke[name] = [yell[0],'=',yell[2]]\n",
    "        elif len(yell) == 1:\n",
    "            rational_monke[name] = Rational_function([int(yell[0])],[1])\n",
    "        else:\n",
    "            rational_monke[name] = yell"
   ]
  },
  {
   "cell_type": "code",
   "execution_count": 30,
   "metadata": {},
   "outputs": [],
   "source": [
    "def evalutate_rational_monke(name: str) -> int:\n",
    "    \n",
    "    if name not in list(rational_monke.keys()):\n",
    "        raise Exception(name + \" is an invalid monke name\")\n",
    "    \n",
    "    yell = rational_monke[name]\n",
    "    \n",
    "    if type(yell) == Rational_function:\n",
    "        return yell\n",
    "    \n",
    "    monke_1, op, monke_2 = yell\n",
    "\n",
    "    if op == \"+\":\n",
    "        return evalutate_rational_monke(monke_1) + evalutate_rational_monke(monke_2)\n",
    "        \n",
    "    if op == \"-\":\n",
    "        return evalutate_rational_monke(monke_1) - evalutate_rational_monke(monke_2)\n",
    "        \n",
    "    if op == \"*\":\n",
    "        return evalutate_rational_monke(monke_1) * evalutate_rational_monke(monke_2)\n",
    "        \n",
    "    if op == \"/\":\n",
    "        return evalutate_rational_monke(monke_1) / evalutate_rational_monke(monke_2)\n",
    "    \n",
    "    if op == \"=\":\n",
    "        return evalutate_rational_monke(monke_1),evalutate_rational_monke(monke_2)"
   ]
  },
  {
   "cell_type": "code",
   "execution_count": 47,
   "metadata": {},
   "outputs": [
    {
     "data": {
      "text/plain": [
       "3582317956029.0"
      ]
     },
     "execution_count": 47,
     "metadata": {},
     "output_type": "execute_result"
    }
   ],
   "source": [
    "a,b = evalutate_rational_monke('root')\n",
    "\n",
    "# The input is chosen in such a way that the resulting equation is of the form\n",
    "# (a.num.poly[0] + a.num.poly[1] x) / a.denom.poly[0] = b.num.poly[0] / b.denom.poly[0]\n",
    "# The following calculation solves this equation for x\n",
    " \n",
    "(b.num.poly[0]/b.denom.poly[0] - a.num.poly[0]/a.denom.poly[0]) * a.denom.poly[0]/a.num.poly[1]\n"
   ]
  }
 ],
 "metadata": {
  "kernelspec": {
   "display_name": "computerVision",
   "language": "python",
   "name": "python3"
  },
  "language_info": {
   "codemirror_mode": {
    "name": "ipython",
    "version": 3
   },
   "file_extension": ".py",
   "mimetype": "text/x-python",
   "name": "python",
   "nbconvert_exporter": "python",
   "pygments_lexer": "ipython3",
   "version": "3.10.4"
  },
  "orig_nbformat": 4,
  "vscode": {
   "interpreter": {
    "hash": "6e39c4a04f2f357205b1c45109a663a38f7d4a8f3ee18873028218b148b8ed97"
   }
  }
 },
 "nbformat": 4,
 "nbformat_minor": 2
}
