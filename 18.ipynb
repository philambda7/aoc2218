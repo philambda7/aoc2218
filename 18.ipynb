{
 "cells": [
  {
   "cell_type": "code",
   "execution_count": 1,
   "metadata": {},
   "outputs": [
    {
     "data": {
      "text/plain": [
       "3564.0"
      ]
     },
     "execution_count": 1,
     "metadata": {},
     "output_type": "execute_result"
    }
   ],
   "source": [
    "#a)\n",
    "\n",
    "import re \n",
    "import numpy as np\n",
    "import scipy\n",
    "\n",
    "#parsing\n",
    "with open(\"18.txt\") as f:\n",
    "    lines = f.readlines()\n",
    "\n",
    "#contains the coordinates of all lavabits\n",
    "lavabits = []\n",
    "for l in lines:\n",
    "    lavabits.append([int(re.sub(\"[^0-9]\", \"\",e)) for e in l.split(sep=\",\")])\n",
    "\n",
    "#move all bits to avoid border problems \n",
    "lavabits = np.array(lavabits)+np.array([1,1,1])\n",
    "\n",
    "#create grid, 0: empty, 1: lava bit\n",
    "max = np.max(lavabits,axis=0)\n",
    "room = np.zeros(shape=max+np.array([2,2,2]))\n",
    "for p in lavabits:\n",
    "    room[p[0],p[1],p[2]] = 1\n",
    "\n",
    "#use convolution to compute the surface area (+6 if the gridpoint is a lava bit. -1 for each facing lavabit).\n",
    "conv_kernel = np.array([\n",
    "    [[0,0,0],\n",
    "    [0,-1,0],\n",
    "    [0,0,0]],\n",
    "    [[0,-1,0],\n",
    "    [-1,6,-1],\n",
    "    [0,-1,0]],\n",
    "    [[0,0,0],\n",
    "    [0,-1,0],\n",
    "    [0,0,0]]\n",
    "])\n",
    "a = scipy.ndimage.convolve(room, conv_kernel)\n",
    "a = a*(a>0)\n",
    "np.sum(a)"
   ]
  },
  {
   "cell_type": "code",
   "execution_count": 19,
   "metadata": {},
   "outputs": [],
   "source": [
    "#b)\n",
    "\n",
    "#grid of same size as room, 1: air can flow to this grid point, 0: it can not\n",
    "flow_room = np.zeros(shape=room.shape)\n",
    "flow_room[:,:,0] = 1\n",
    "flow_room[:,:,-1] = 1\n",
    "flow_room[:,0,:] = 1\n",
    "flow_room[:,-1] = 1\n",
    "flow_room[0,:,:] = 1\n",
    "flow_room[-1,:,:] = 1\n",
    "\n",
    "\n",
    "flow_kernel = np.array([\n",
    "    [[0,0,0],\n",
    "    [0,1,0],\n",
    "    [0,0,0]],\n",
    "    [[0,1,0],\n",
    "    [1,1,1],\n",
    "    [0,1,0]],\n",
    "    [[0,0,0],\n",
    "    [0,1,0],\n",
    "    [0,0,0]]\n",
    "])\n",
    "\n",
    "#complement room\n",
    "anti_room = np.ones(shape=room.shape)-room\n",
    "\n",
    "#continiously let the air flow until there is no change anymore\n",
    "while True:\n",
    "    flow_room_ = scipy.ndimage.convolve(flow_room, flow_kernel)\n",
    "    flow_room_ = flow_room_ * anti_room\n",
    "    flow_room_ = flow_room_ > 0\n",
    "    \n",
    "    if np.array_equal(flow_room_,flow_room):\n",
    "        break\n",
    "\n",
    "    flow_room = flow_room_\n",
    "\n",
    "#now the lava surface is calculate by couting the the touching airflow bits for all lavabits\n",
    "s = 0\n",
    "for p in lavabits:\n",
    "    s += np.sum(flow_kernel*flow_room[p[0]-1:p[0]+2,p[1]-1:p[1]+2,p[2]-1:p[2]+2])\n",
    "s\n"
   ]
  }
 ],
 "metadata": {
  "kernelspec": {
   "display_name": "tf2",
   "language": "python",
   "name": "python3"
  },
  "language_info": {
   "codemirror_mode": {
    "name": "ipython",
    "version": 3
   },
   "file_extension": ".py",
   "mimetype": "text/x-python",
   "name": "python",
   "nbconvert_exporter": "python",
   "pygments_lexer": "ipython3",
   "version": "3.10.4"
  },
  "orig_nbformat": 4,
  "vscode": {
   "interpreter": {
    "hash": "6a1e6471a90e4c3145f77181307ed59de5ccc187394d80f180eed02aaca082d0"
   }
  }
 },
 "nbformat": 4,
 "nbformat_minor": 2
}
